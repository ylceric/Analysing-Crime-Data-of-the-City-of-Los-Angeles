{
 "cells": [
  {
   "cell_type": "markdown",
   "metadata": {},
   "source": [
    "# **Analysing Crime Data of the City of Los Angeles**"
   ]
  },
  {
   "cell_type": "markdown",
   "metadata": {},
   "source": [
    "##### **Group Members:** Linchuan Yang(linchuan@ucsb.edu), Ruchika Saswade(ruchika_saswade@ucsb.edu)\n",
    "\n",
    "##### **Member Contributions:**  \n",
    "**Linchuan Yang:** Group Leader, Report Writting, Achieving Data, Data Tidying, Initial Visualization, PCA Analysis, Loess Plot Analysis  \n",
    "\n",
    "**Ruchika Saswade:** Group Member, Report Checking, Data Visualizing, Plot Analyzing"
   ]
  },
  {
   "cell_type": "markdown",
   "metadata": {},
   "source": [
    "<hr>\n",
    "\n",
    "## **Abstract**"
   ]
  },
  {
   "cell_type": "markdown",
   "metadata": {},
   "source": [
    "Crime is happening all over the world all the time, and the City of Los Angeles as a metropolis is even more so. This report will analyze Los Angeles criminal records from 2010 to 2021 to provide readers with a better understanding of crime in the City of Los Angeles. At the same time, the report will also use analytical techniques at the end to show the possible impact of the epidemic on crime victims."
   ]
  },
  {
   "cell_type": "markdown",
   "metadata": {},
   "source": [
    "<hr>\n",
    "\n",
    "## **Introduction**"
   ]
  },
  {
   "cell_type": "markdown",
   "metadata": {},
   "source": [
    "##### **Background:**"
   ]
  },
  {
   "cell_type": "markdown",
   "metadata": {},
   "source": [
    "Our project is about analyzing and exploring the crime reports of the City of Los Angeles from 2010 to 2021. This project topic is closely related to areas of Criminology and Sociology. The data were gathered from the official database of the City of Los Angeles which contains every crime reported to the law enforcement within the LA. In the raw dataset, exact time, exact location, area and district where the crime was performed, crime code and description, and victim information were included.  \n",
    "\n",
    "The motivation for this project is simple, Los Angeles is close to Santa Barbara, only a two-hour drive, which is familiar to us. Also, the observations of Los Angeles are huge which is good for data exploration. Moreover, we choose the dataset from 2010 to 2021 because we were interested in seeking and informing readers how COVID-19 started in 2020 may affect crime reported in LA city and get some sense of how crime in LA city would be in the future. "
   ]
  },
  {
   "cell_type": "markdown",
   "metadata": {},
   "source": [
    "<div align=\"center\"><img src='https://upload.wikimedia.org/wikipedia/commons/thumb/6/69/Los_Angeles_with_Mount_Baldy.jpg/2880px-Los_Angeles_with_Mount_Baldy.jpg' title='Picture of Downtown Los Angeles' height=200 width=500></div>\n",
    "<div align=\"center\">Picture of Downtown Los Angeles</div> "
   ]
  },
  {
   "cell_type": "markdown",
   "metadata": {},
   "source": [
    "##### **Data Sources:**  \n",
    "Crime Data from 2010 to 2019: https://data.lacity.org/Public-Safety/Crime-Data-from-2010-to-2019/63jg-8b9z  \n",
    "Crime Data from 2020 to Present: https://data.lacity.org/Public-Safety/Crime-Data-from-2020-to-Present/2nrs-mtv8"
   ]
  },
  {
   "cell_type": "markdown",
   "metadata": {},
   "source": [
    "##### **Approach:**"
   ]
  },
  {
   "cell_type": "markdown",
   "metadata": {},
   "source": [
    "To analyze the data, we will focus on time, area, crime information, and victim information to answer several specific self-interested questions listed below. *Each group member will answer their own questions.*  \n",
    "\n",
    "In this project, several data analysis technics are used to answer the questions, including:  \n",
    "\n",
    "**Achieving Data**, **Data Tidying**, **Visualizing**, **Plot Analyzing**, **PCA Analysis**, **Loess Plot Analysis**"
   ]
  },
  {
   "cell_type": "markdown",
   "metadata": {},
   "source": [
    "##### **Questions:**"
   ]
  },
  {
   "cell_type": "markdown",
   "metadata": {},
   "source": [
    "**Visualizing** and **Plot Analyzing**: \n",
    "1. What month throughout the years has the most concentration of crimes happening? &ensp;&ensp; *(**Ruchika Saswade**)*\n",
    "2. What age/sex seems to be the least victimized from 2010 to 2021? &ensp;&ensp; *(**Ruchika Saswade**)*\n",
    "3. Which area in LA city were considered *dangerous*? &ensp;&ensp; *(**Linchuan Yang**)*\n",
    "\n",
    "**PCA Analysis**:  \n",
    "\n",
    "&ensp;&ensp;\n",
    "4. List the crime by bigger major categories and apply to the data. Is there any area that different from others? &ensp;&ensp; *(**Linchuan Yang**)*  \n",
    "  \n",
    "**Loess Plot Analysis**:  \n",
    "\n",
    "&ensp;&ensp;\n",
    "5. How was the trend that a specific descent group were victimlized? &ensp;&ensp; *(**Linchuan Yang**)*  "
   ]
  },
  {
   "cell_type": "markdown",
   "metadata": {},
   "source": [
    "<hr>\n",
    "\n",
    "## **Raw Data**"
   ]
  },
  {
   "cell_type": "code",
   "execution_count": 2,
   "metadata": {},
   "outputs": [],
   "source": [
    "# import packages\n",
    "import pandas as pd\n",
    "import numpy as np"
   ]
  },
  {
   "cell_type": "markdown",
   "metadata": {},
   "source": [
    "The table below shows the raw data. The raw data include all the crime records reported within the City of Los Angeles from 2010 to 2022. The datasets are achieved from the database of the City of Los Angeles, the datasets are recorded by the Summary Reporting System (SRS) of Division Uniform Crime Reporting (UCR) of Program Criminal Justice Information Services (CJIS) under the U.S. Department of Justice. Also, the data are collected from local law enforcement jurisdictions. "
   ]
  },
  {
   "cell_type": "code",
   "execution_count": 3,
   "metadata": {},
   "outputs": [
    {
     "data": {
      "text/html": [
       "<div>\n",
       "<style scoped>\n",
       "    .dataframe tbody tr th:only-of-type {\n",
       "        vertical-align: middle;\n",
       "    }\n",
       "\n",
       "    .dataframe tbody tr th {\n",
       "        vertical-align: top;\n",
       "    }\n",
       "\n",
       "    .dataframe thead th {\n",
       "        text-align: right;\n",
       "    }\n",
       "</style>\n",
       "<table border=\"1\" class=\"dataframe\">\n",
       "  <thead>\n",
       "    <tr style=\"text-align: right;\">\n",
       "      <th></th>\n",
       "      <th>DR_NO</th>\n",
       "      <th>Date Rptd</th>\n",
       "      <th>DATE OCC</th>\n",
       "      <th>TIME OCC</th>\n",
       "      <th>AREA</th>\n",
       "      <th>AREA NAME</th>\n",
       "      <th>Rpt Dist No</th>\n",
       "      <th>Part 1-2</th>\n",
       "      <th>Crm Cd</th>\n",
       "      <th>Crm Cd Desc</th>\n",
       "      <th>...</th>\n",
       "      <th>Status</th>\n",
       "      <th>Status Desc</th>\n",
       "      <th>Crm Cd 1</th>\n",
       "      <th>Crm Cd 2</th>\n",
       "      <th>Crm Cd 3</th>\n",
       "      <th>Crm Cd 4</th>\n",
       "      <th>LOCATION</th>\n",
       "      <th>Cross Street</th>\n",
       "      <th>LAT</th>\n",
       "      <th>LON</th>\n",
       "    </tr>\n",
       "  </thead>\n",
       "  <tbody>\n",
       "    <tr>\n",
       "      <th>0</th>\n",
       "      <td>1307355</td>\n",
       "      <td>02/20/2010 12:00:00 AM</td>\n",
       "      <td>02/20/2010 12:00:00 AM</td>\n",
       "      <td>1350</td>\n",
       "      <td>13</td>\n",
       "      <td>Newton</td>\n",
       "      <td>1385</td>\n",
       "      <td>2</td>\n",
       "      <td>900</td>\n",
       "      <td>VIOLATION OF COURT ORDER</td>\n",
       "      <td>...</td>\n",
       "      <td>AA</td>\n",
       "      <td>Adult Arrest</td>\n",
       "      <td>900.0</td>\n",
       "      <td>NaN</td>\n",
       "      <td>NaN</td>\n",
       "      <td>NaN</td>\n",
       "      <td>300 E  GAGE                         AV</td>\n",
       "      <td>NaN</td>\n",
       "      <td>33.9825</td>\n",
       "      <td>-118.2695</td>\n",
       "    </tr>\n",
       "    <tr>\n",
       "      <th>1</th>\n",
       "      <td>11401303</td>\n",
       "      <td>09/13/2010 12:00:00 AM</td>\n",
       "      <td>09/12/2010 12:00:00 AM</td>\n",
       "      <td>45</td>\n",
       "      <td>14</td>\n",
       "      <td>Pacific</td>\n",
       "      <td>1485</td>\n",
       "      <td>2</td>\n",
       "      <td>740</td>\n",
       "      <td>VANDALISM - FELONY ($400 &amp; OVER, ALL CHURCH VA...</td>\n",
       "      <td>...</td>\n",
       "      <td>IC</td>\n",
       "      <td>Invest Cont</td>\n",
       "      <td>740.0</td>\n",
       "      <td>NaN</td>\n",
       "      <td>NaN</td>\n",
       "      <td>NaN</td>\n",
       "      <td>SEPULVEDA                    BL</td>\n",
       "      <td>MANCHESTER                   AV</td>\n",
       "      <td>33.9599</td>\n",
       "      <td>-118.3962</td>\n",
       "    </tr>\n",
       "    <tr>\n",
       "      <th>2</th>\n",
       "      <td>70309629</td>\n",
       "      <td>08/09/2010 12:00:00 AM</td>\n",
       "      <td>08/09/2010 12:00:00 AM</td>\n",
       "      <td>1515</td>\n",
       "      <td>13</td>\n",
       "      <td>Newton</td>\n",
       "      <td>1324</td>\n",
       "      <td>2</td>\n",
       "      <td>946</td>\n",
       "      <td>OTHER MISCELLANEOUS CRIME</td>\n",
       "      <td>...</td>\n",
       "      <td>IC</td>\n",
       "      <td>Invest Cont</td>\n",
       "      <td>946.0</td>\n",
       "      <td>NaN</td>\n",
       "      <td>NaN</td>\n",
       "      <td>NaN</td>\n",
       "      <td>1300 E  21ST                         ST</td>\n",
       "      <td>NaN</td>\n",
       "      <td>34.0224</td>\n",
       "      <td>-118.2524</td>\n",
       "    </tr>\n",
       "    <tr>\n",
       "      <th>3</th>\n",
       "      <td>90631215</td>\n",
       "      <td>01/05/2010 12:00:00 AM</td>\n",
       "      <td>01/05/2010 12:00:00 AM</td>\n",
       "      <td>150</td>\n",
       "      <td>6</td>\n",
       "      <td>Hollywood</td>\n",
       "      <td>646</td>\n",
       "      <td>2</td>\n",
       "      <td>900</td>\n",
       "      <td>VIOLATION OF COURT ORDER</td>\n",
       "      <td>...</td>\n",
       "      <td>IC</td>\n",
       "      <td>Invest Cont</td>\n",
       "      <td>900.0</td>\n",
       "      <td>998.0</td>\n",
       "      <td>NaN</td>\n",
       "      <td>NaN</td>\n",
       "      <td>CAHUENGA                     BL</td>\n",
       "      <td>HOLLYWOOD                    BL</td>\n",
       "      <td>34.1016</td>\n",
       "      <td>-118.3295</td>\n",
       "    </tr>\n",
       "    <tr>\n",
       "      <th>4</th>\n",
       "      <td>100100501</td>\n",
       "      <td>01/03/2010 12:00:00 AM</td>\n",
       "      <td>01/02/2010 12:00:00 AM</td>\n",
       "      <td>2100</td>\n",
       "      <td>1</td>\n",
       "      <td>Central</td>\n",
       "      <td>176</td>\n",
       "      <td>1</td>\n",
       "      <td>122</td>\n",
       "      <td>RAPE, ATTEMPTED</td>\n",
       "      <td>...</td>\n",
       "      <td>IC</td>\n",
       "      <td>Invest Cont</td>\n",
       "      <td>122.0</td>\n",
       "      <td>NaN</td>\n",
       "      <td>NaN</td>\n",
       "      <td>NaN</td>\n",
       "      <td>8TH                          ST</td>\n",
       "      <td>SAN PEDRO                    ST</td>\n",
       "      <td>34.0387</td>\n",
       "      <td>-118.2488</td>\n",
       "    </tr>\n",
       "  </tbody>\n",
       "</table>\n",
       "<p>5 rows × 28 columns</p>\n",
       "</div>"
      ],
      "text/plain": [
       "       DR_NO               Date Rptd                DATE OCC  TIME OCC  AREA   \\\n",
       "0    1307355  02/20/2010 12:00:00 AM  02/20/2010 12:00:00 AM      1350     13   \n",
       "1   11401303  09/13/2010 12:00:00 AM  09/12/2010 12:00:00 AM        45     14   \n",
       "2   70309629  08/09/2010 12:00:00 AM  08/09/2010 12:00:00 AM      1515     13   \n",
       "3   90631215  01/05/2010 12:00:00 AM  01/05/2010 12:00:00 AM       150      6   \n",
       "4  100100501  01/03/2010 12:00:00 AM  01/02/2010 12:00:00 AM      2100      1   \n",
       "\n",
       "   AREA NAME  Rpt Dist No  Part 1-2  Crm Cd  \\\n",
       "0     Newton         1385         2     900   \n",
       "1    Pacific         1485         2     740   \n",
       "2     Newton         1324         2     946   \n",
       "3  Hollywood          646         2     900   \n",
       "4    Central          176         1     122   \n",
       "\n",
       "                                         Crm Cd Desc  ... Status  \\\n",
       "0                           VIOLATION OF COURT ORDER  ...     AA   \n",
       "1  VANDALISM - FELONY ($400 & OVER, ALL CHURCH VA...  ...     IC   \n",
       "2                          OTHER MISCELLANEOUS CRIME  ...     IC   \n",
       "3                           VIOLATION OF COURT ORDER  ...     IC   \n",
       "4                                    RAPE, ATTEMPTED  ...     IC   \n",
       "\n",
       "    Status Desc Crm Cd 1 Crm Cd 2  Crm Cd 3 Crm Cd 4  \\\n",
       "0  Adult Arrest    900.0      NaN       NaN      NaN   \n",
       "1   Invest Cont    740.0      NaN       NaN      NaN   \n",
       "2   Invest Cont    946.0      NaN       NaN      NaN   \n",
       "3   Invest Cont    900.0    998.0       NaN      NaN   \n",
       "4   Invest Cont    122.0      NaN       NaN      NaN   \n",
       "\n",
       "                                  LOCATION                     Cross Street  \\\n",
       "0   300 E  GAGE                         AV                              NaN   \n",
       "1          SEPULVEDA                    BL  MANCHESTER                   AV   \n",
       "2  1300 E  21ST                         ST                              NaN   \n",
       "3          CAHUENGA                     BL  HOLLYWOOD                    BL   \n",
       "4          8TH                          ST  SAN PEDRO                    ST   \n",
       "\n",
       "       LAT       LON  \n",
       "0  33.9825 -118.2695  \n",
       "1  33.9599 -118.3962  \n",
       "2  34.0224 -118.2524  \n",
       "3  34.1016 -118.3295  \n",
       "4  34.0387 -118.2488  \n",
       "\n",
       "[5 rows x 28 columns]"
      ]
     },
     "execution_count": 3,
     "metadata": {},
     "output_type": "execute_result"
    }
   ],
   "source": [
    "# show first five rows\n",
    "pd.read_csv('data/raw/Crime_Data_from_2010_to_2019.csv').head()"
   ]
  },
  {
   "cell_type": "markdown",
   "metadata": {},
   "source": [
    "<hr>\n",
    "\n",
    "## **Data Tidying**"
   ]
  },
  {
   "cell_type": "markdown",
   "metadata": {},
   "source": [
    "The table below shows the tidied data. The tidied data only include need variables for the analysis like Year, Month, Crime description, and Victim information."
   ]
  },
  {
   "cell_type": "code",
   "execution_count": 4,
   "metadata": {},
   "outputs": [
    {
     "data": {
      "text/html": [
       "<div>\n",
       "<style scoped>\n",
       "    .dataframe tbody tr th:only-of-type {\n",
       "        vertical-align: middle;\n",
       "    }\n",
       "\n",
       "    .dataframe tbody tr th {\n",
       "        vertical-align: top;\n",
       "    }\n",
       "\n",
       "    .dataframe thead th {\n",
       "        text-align: right;\n",
       "    }\n",
       "</style>\n",
       "<table border=\"1\" class=\"dataframe\">\n",
       "  <thead>\n",
       "    <tr style=\"text-align: right;\">\n",
       "      <th></th>\n",
       "      <th>Month</th>\n",
       "      <th>Year</th>\n",
       "      <th>Area</th>\n",
       "      <th>Crime</th>\n",
       "      <th>Victim Age</th>\n",
       "      <th>Victim Sex</th>\n",
       "      <th>Victim Descent</th>\n",
       "    </tr>\n",
       "  </thead>\n",
       "  <tbody>\n",
       "    <tr>\n",
       "      <th>0</th>\n",
       "      <td>2</td>\n",
       "      <td>2010</td>\n",
       "      <td>Newton</td>\n",
       "      <td>VIOLATION OF COURT ORDER</td>\n",
       "      <td>48</td>\n",
       "      <td>Male</td>\n",
       "      <td>Hispanic</td>\n",
       "    </tr>\n",
       "    <tr>\n",
       "      <th>1</th>\n",
       "      <td>9</td>\n",
       "      <td>2010</td>\n",
       "      <td>Pacific</td>\n",
       "      <td>VANDALISM - FELONY ($400 &amp; OVER, ALL CHURCH VA...</td>\n",
       "      <td>Unknown</td>\n",
       "      <td>Male</td>\n",
       "      <td>White</td>\n",
       "    </tr>\n",
       "    <tr>\n",
       "      <th>2</th>\n",
       "      <td>8</td>\n",
       "      <td>2010</td>\n",
       "      <td>Newton</td>\n",
       "      <td>OTHER MISCELLANEOUS CRIME</td>\n",
       "      <td>Unknown</td>\n",
       "      <td>Male</td>\n",
       "      <td>Hispanic</td>\n",
       "    </tr>\n",
       "    <tr>\n",
       "      <th>3</th>\n",
       "      <td>1</td>\n",
       "      <td>2010</td>\n",
       "      <td>Hollywood</td>\n",
       "      <td>VIOLATION OF COURT ORDER</td>\n",
       "      <td>47</td>\n",
       "      <td>Female</td>\n",
       "      <td>White</td>\n",
       "    </tr>\n",
       "    <tr>\n",
       "      <th>4</th>\n",
       "      <td>1</td>\n",
       "      <td>2010</td>\n",
       "      <td>Central</td>\n",
       "      <td>RAPE, ATTEMPTED</td>\n",
       "      <td>47</td>\n",
       "      <td>Female</td>\n",
       "      <td>Hispanic</td>\n",
       "    </tr>\n",
       "  </tbody>\n",
       "</table>\n",
       "</div>"
      ],
      "text/plain": [
       "   Month  Year       Area                                              Crime  \\\n",
       "0      2  2010     Newton                           VIOLATION OF COURT ORDER   \n",
       "1      9  2010    Pacific  VANDALISM - FELONY ($400 & OVER, ALL CHURCH VA...   \n",
       "2      8  2010     Newton                          OTHER MISCELLANEOUS CRIME   \n",
       "3      1  2010  Hollywood                           VIOLATION OF COURT ORDER   \n",
       "4      1  2010    Central                                    RAPE, ATTEMPTED   \n",
       "\n",
       "  Victim Age Victim Sex Victim Descent  \n",
       "0         48       Male       Hispanic  \n",
       "1    Unknown       Male          White  \n",
       "2    Unknown       Male       Hispanic  \n",
       "3         47     Female          White  \n",
       "4         47     Female       Hispanic  "
      ]
     },
     "execution_count": 4,
     "metadata": {},
     "output_type": "execute_result"
    }
   ],
   "source": [
    "# show first five rows\n",
    "pd.read_csv('data/Crime_Data_from_2010_to_Present_Clean.csv').head()"
   ]
  },
  {
   "cell_type": "markdown",
   "metadata": {},
   "source": [
    "The table below shows the variable descrition of tidied data.  \n",
    "\n",
    "Name | Variable description | Type | Units of measurement\n",
    "---|---|---|---\n",
    "Month | ith month | Numeric | Calendar month \n",
    "Year | year of crime record | Numeric | Calendar year\n",
    "Area | specific area where crime occurred | Text | --- \n",
    "Crime | crime describtion | Text | --- \n",
    "Victim Age | the age of victim | Numeric | years old \n",
    "Victim Sex | the sex of victim | Text | --- \n",
    "Victim Descent |  the descent of victim | Text | --- "
   ]
  },
  {
   "cell_type": "markdown",
   "metadata": {},
   "source": [
    "<hr>\n",
    "\n",
    "## **Data Visualization**"
   ]
  },
  {
   "cell_type": "markdown",
   "metadata": {},
   "source": [
    "### **Initial Visualization**"
   ]
  },
  {
   "cell_type": "markdown",
   "metadata": {},
   "source": [
    "This section will show basic informative plot of the cirme data of the City of Los Angeles. "
   ]
  },
  {
   "cell_type": "markdown",
   "metadata": {},
   "source": [
    "#### Bar Plot of Crime Total"
   ]
  },
  {
   "cell_type": "markdown",
   "metadata": {},
   "source": [
    "The bar plot below shows the crime numbers on each month in each year and how they were distributed, minor seasonal trend were observed.  \n",
    "\n",
    "<img src='data/plot/crime_total_bar.png'>"
   ]
  },
  {
   "cell_type": "markdown",
   "metadata": {},
   "source": [
    "#### Pie Chart of Victim Descent by Year"
   ]
  },
  {
   "cell_type": "markdown",
   "metadata": {},
   "source": [
    "The pie chart below shows the victim numbers of each year by descent, increasing trend on Asian Victim proportion were observed. \n",
    "\n",
    "<img src='data/plot/victim_descent_pie.png'>"
   ]
  },
  {
   "cell_type": "markdown",
   "metadata": {},
   "source": [
    "### **(Question 1) What month throughout the years has the most concentration of crimes happening? &ensp;&ensp; *(**Ruchika Saswade**)***"
   ]
  },
  {
   "cell_type": "markdown",
   "metadata": {},
   "source": [
    "##### **Plot:**"
   ]
  },
  {
   "cell_type": "markdown",
   "metadata": {},
   "source": [
    "<div align=\"center\"><img src='data/plot/crime_count_year.png' height=300></div>\n",
    "<div align=\"center\">Scatter and Bar Plot of Crime Count by Month</div> "
   ]
  },
  {
   "cell_type": "markdown",
   "metadata": {},
   "source": [
    "##### **Result:**"
   ]
  },
  {
   "cell_type": "markdown",
   "metadata": {},
   "source": [
    "To answer question of the month that has the most crime, it is shown that July and August are the two months with the highest crime count in the charts. In the bar plot as well we can see that the highest counts are July, August, and October. If we will say one month that has the most crime count it would be July."
   ]
  },
  {
   "cell_type": "markdown",
   "metadata": {},
   "source": [
    "### **(Question 2) What age/sex seems to be the least victimized from 2010 to 2021? &ensp;&ensp; *(**Ruchika Saswade**)***"
   ]
  },
  {
   "cell_type": "markdown",
   "metadata": {},
   "source": [
    "##### **Plot:**"
   ]
  },
  {
   "cell_type": "markdown",
   "metadata": {},
   "source": [
    "<div align=\"center\"><img src='data/plot/age_sex_crime_count.png' height=300></div>\n",
    "<div align=\"center\">Histogram of Victim Age and Sex Count</div> "
   ]
  },
  {
   "cell_type": "markdown",
   "metadata": {},
   "source": [
    "##### **Result:**"
   ]
  },
  {
   "cell_type": "markdown",
   "metadata": {},
   "source": [
    "To answer the question of what age/sex seems to be the least victimized from 2010 to 2021, the age that seems to be at the peak of victimization is from 20-30, almost around 24/25 and so the least victimized age seems to be heading into the senior ages. (60-100) as well as ages under 19 (0-19) . The most victimized sex are males, almost 1,150,000 in count and the least is other/unknown as shown from the bar plot.\n",
    "\n",
    "**Notice**, this does not means that these groups are overally less victiimized because the populations are different. Proper weight need to be added in order to reflect reality."
   ]
  },
  {
   "cell_type": "markdown",
   "metadata": {},
   "source": [
    "### **(Question 3) Which area in LA city were considered *dangerous*? &ensp;&ensp; *(**Linchuan Yang**)***"
   ]
  },
  {
   "cell_type": "markdown",
   "metadata": {},
   "source": [
    "##### **Description:**"
   ]
  },
  {
   "cell_type": "markdown",
   "metadata": {},
   "source": [
    "The acreage data are collected by going through each ditrict information from offical LAPD website. Then a data frame with area and acreage are created and merge with crime data grouped by `Year` and `Area`. After that, the index is calculated by `Crime` divide by `Acreage` then store to the merged data frame with variable name `Dangerous Index`. Finally, plot the bar plot of `Dangerous Index` with `Area`.   "
   ]
  },
  {
   "cell_type": "markdown",
   "metadata": {},
   "source": [
    "##### **Create Plot Dataframe:**"
   ]
  },
  {
   "cell_type": "code",
   "execution_count": 111,
   "metadata": {},
   "outputs": [
    {
     "data": {
      "text/html": [
       "<div>\n",
       "<style scoped>\n",
       "    .dataframe tbody tr th:only-of-type {\n",
       "        vertical-align: middle;\n",
       "    }\n",
       "\n",
       "    .dataframe tbody tr th {\n",
       "        vertical-align: top;\n",
       "    }\n",
       "\n",
       "    .dataframe thead th {\n",
       "        text-align: right;\n",
       "    }\n",
       "</style>\n",
       "<table border=\"1\" class=\"dataframe\">\n",
       "  <thead>\n",
       "    <tr style=\"text-align: right;\">\n",
       "      <th></th>\n",
       "      <th>Year</th>\n",
       "      <th>Area</th>\n",
       "      <th>Crime</th>\n",
       "      <th>Acreage</th>\n",
       "      <th>Dangerous Index</th>\n",
       "    </tr>\n",
       "  </thead>\n",
       "  <tbody>\n",
       "    <tr>\n",
       "      <th>0</th>\n",
       "      <td>2010</td>\n",
       "      <td>77th Street</td>\n",
       "      <td>14441</td>\n",
       "      <td>11.9</td>\n",
       "      <td>1213.529412</td>\n",
       "    </tr>\n",
       "    <tr>\n",
       "      <th>1</th>\n",
       "      <td>2011</td>\n",
       "      <td>77th Street</td>\n",
       "      <td>14257</td>\n",
       "      <td>11.9</td>\n",
       "      <td>1198.067227</td>\n",
       "    </tr>\n",
       "    <tr>\n",
       "      <th>2</th>\n",
       "      <td>2012</td>\n",
       "      <td>77th Street</td>\n",
       "      <td>14300</td>\n",
       "      <td>11.9</td>\n",
       "      <td>1201.680672</td>\n",
       "    </tr>\n",
       "    <tr>\n",
       "      <th>3</th>\n",
       "      <td>2013</td>\n",
       "      <td>77th Street</td>\n",
       "      <td>13746</td>\n",
       "      <td>11.9</td>\n",
       "      <td>1155.126050</td>\n",
       "    </tr>\n",
       "    <tr>\n",
       "      <th>4</th>\n",
       "      <td>2014</td>\n",
       "      <td>77th Street</td>\n",
       "      <td>14065</td>\n",
       "      <td>11.9</td>\n",
       "      <td>1181.932773</td>\n",
       "    </tr>\n",
       "  </tbody>\n",
       "</table>\n",
       "</div>"
      ],
      "text/plain": [
       "   Year         Area  Crime  Acreage  Dangerous Index\n",
       "0  2010  77th Street  14441     11.9      1213.529412\n",
       "1  2011  77th Street  14257     11.9      1198.067227\n",
       "2  2012  77th Street  14300     11.9      1201.680672\n",
       "3  2013  77th Street  13746     11.9      1155.126050\n",
       "4  2014  77th Street  14065     11.9      1181.932773"
      ]
     },
     "execution_count": 111,
     "metadata": {},
     "output_type": "execute_result"
    }
   ],
   "source": [
    "# display first five rows\n",
    "pd.read_csv('data/table/area_acreage_crime_data.csv').head()"
   ]
  },
  {
   "cell_type": "markdown",
   "metadata": {},
   "source": [
    "##### **Result:**"
   ]
  },
  {
   "cell_type": "markdown",
   "metadata": {},
   "source": [
    "<div align=\"center\"><img src='data/plot/dangerous_index_bar.png' title='Bar Plot of Dangerous Index' height=300 width=400></div>\n",
    "<div align=\"center\">Bar Plot of Dangerous Index</div> "
   ]
  },
  {
   "cell_type": "markdown",
   "metadata": {},
   "source": [
    "From the plot above, we observed that **77th Street** area has the highest dangerous index which means **77th Street** tend to be the most *'dangerous'* area of the City of Los Angeles.  \n",
    "\n",
    "<div align=\"center\"><img src='data/plot/77th.png' title='Map of 77th Street Area' height=300 width=400></div>\n",
    "<div align=\"center\">Map of 77th Street Area</div> \n",
    "\n",
    "Also, **Hollenbeck** and **Foothill** area has the lowest dangerous index which means **Hollenbeck** and **Foothill** tend to be the *'safest'* area of the City of Los Angeles.  \n",
    "\n",
    "<div align=\"center\"><img src='data/plot/HBK.png' title='Map of Hollenbeck Area' height=400 width=300>&ensp;&ensp;&ensp;&ensp;<img src='data/plot/FTHL.png' title='Map of Foothill Area' height=300 width=400></div>\n",
    "<div align=\"center\">Map of Hollenbeck Area(left) and Map of Foothill Area(right)</div> \n",
    "\n",
    "It is also interesting that from the map, **77th Street** is at *urban* area while **Hollenbeck** and **Foothill** are at *rural* area. It make some sense that *urban* area tend to have *higher crime rate* and vice versa.  \n",
    "\n",
    "Moreover, the plot also explains the difference of `dangerous index` is not significance through `Year` of each area to avoid paradox.  \n",
    "\n",
    "**Noice** the `dangerous` index is only based on `acreage` and crime count of the each area which means it might not be fully correctly refelct the reality.  "
   ]
  },
  {
   "cell_type": "markdown",
   "metadata": {},
   "source": [
    "**Data Source:** https://www.lapdonline.org/lapd-organization-chart/"
   ]
  },
  {
   "cell_type": "markdown",
   "metadata": {},
   "source": [
    "<hr>\n",
    "\n",
    "## **PCA Analysis**"
   ]
  },
  {
   "cell_type": "markdown",
   "metadata": {},
   "source": [
    "### **(Question 4) List the crime by bigger major categories and apply to the data. Is there any area that different from others? &ensp;&ensp; *(**Linchuan Yang**)***"
   ]
  },
  {
   "cell_type": "markdown",
   "metadata": {},
   "source": [
    "##### **Description:**"
   ]
  },
  {
   "cell_type": "markdown",
   "metadata": {},
   "source": [
    "In order to find the bigger category of the crimes, PCA analysis is required. But first, we will have to transform the data with each crime as a column and value as the count of the crimes. After that, draw a heat map and see whether there are strong correlations among each crime variable. Then, normalize the matrix data and compute PCs. And then, plot the variance explained graph and decide the number of PCs. After that, analyze the PCs with a loading plot and try to make sense of these PCs. Finally, apply PCs back to the original data and examine the questions.  "
   ]
  },
  {
   "cell_type": "markdown",
   "metadata": {},
   "source": [
    "##### **Data Transform:**"
   ]
  },
  {
   "cell_type": "code",
   "execution_count": 5,
   "metadata": {},
   "outputs": [
    {
     "data": {
      "text/html": [
       "<div>\n",
       "<style scoped>\n",
       "    .dataframe tbody tr th:only-of-type {\n",
       "        vertical-align: middle;\n",
       "    }\n",
       "\n",
       "    .dataframe tbody tr th {\n",
       "        vertical-align: top;\n",
       "    }\n",
       "\n",
       "    .dataframe thead th {\n",
       "        text-align: right;\n",
       "    }\n",
       "</style>\n",
       "<table border=\"1\" class=\"dataframe\">\n",
       "  <thead>\n",
       "    <tr style=\"text-align: right;\">\n",
       "      <th></th>\n",
       "      <th>Month</th>\n",
       "      <th>Year</th>\n",
       "      <th>Area</th>\n",
       "      <th>Crime_ABORTION/ILLEGAL</th>\n",
       "      <th>Crime_ARSON</th>\n",
       "      <th>Crime_ASSAULT WITH DEADLY WEAPON ON POLICE OFFICER</th>\n",
       "      <th>Crime_ASSAULT WITH DEADLY WEAPON, AGGRAVATED ASSAULT</th>\n",
       "      <th>Crime_ATTEMPTED ROBBERY</th>\n",
       "      <th>Crime_BATTERY - SIMPLE ASSAULT</th>\n",
       "      <th>Crime_BATTERY ON A FIREFIGHTER</th>\n",
       "      <th>...</th>\n",
       "      <th>Crime_UNAUTHORIZED COMPUTER ACCESS</th>\n",
       "      <th>Crime_VANDALISM - FELONY ($400 &amp; OVER, ALL CHURCH VANDALISMS)</th>\n",
       "      <th>Crime_VANDALISM - MISDEAMEANOR ($399 OR UNDER)</th>\n",
       "      <th>Crime_VEHICLE - ATTEMPT STOLEN</th>\n",
       "      <th>Crime_VEHICLE - MOTORIZED SCOOTERS, BICYCLES, AND WHEELCHAIRS</th>\n",
       "      <th>Crime_VEHICLE - STOLEN</th>\n",
       "      <th>Crime_VIOLATION OF COURT ORDER</th>\n",
       "      <th>Crime_VIOLATION OF RESTRAINING ORDER</th>\n",
       "      <th>Crime_VIOLATION OF TEMPORARY RESTRAINING ORDER</th>\n",
       "      <th>Crime_WEAPONS POSSESSION/BOMBING</th>\n",
       "    </tr>\n",
       "  </thead>\n",
       "  <tbody>\n",
       "    <tr>\n",
       "      <th>0</th>\n",
       "      <td>1</td>\n",
       "      <td>2010</td>\n",
       "      <td>77th Street</td>\n",
       "      <td>0</td>\n",
       "      <td>4</td>\n",
       "      <td>0</td>\n",
       "      <td>88</td>\n",
       "      <td>16</td>\n",
       "      <td>160</td>\n",
       "      <td>0</td>\n",
       "      <td>...</td>\n",
       "      <td>0</td>\n",
       "      <td>46</td>\n",
       "      <td>58</td>\n",
       "      <td>4</td>\n",
       "      <td>0</td>\n",
       "      <td>92</td>\n",
       "      <td>15</td>\n",
       "      <td>10</td>\n",
       "      <td>0</td>\n",
       "      <td>0</td>\n",
       "    </tr>\n",
       "    <tr>\n",
       "      <th>1</th>\n",
       "      <td>1</td>\n",
       "      <td>2010</td>\n",
       "      <td>Central</td>\n",
       "      <td>0</td>\n",
       "      <td>1</td>\n",
       "      <td>0</td>\n",
       "      <td>29</td>\n",
       "      <td>5</td>\n",
       "      <td>109</td>\n",
       "      <td>0</td>\n",
       "      <td>...</td>\n",
       "      <td>0</td>\n",
       "      <td>14</td>\n",
       "      <td>15</td>\n",
       "      <td>0</td>\n",
       "      <td>0</td>\n",
       "      <td>17</td>\n",
       "      <td>3</td>\n",
       "      <td>4</td>\n",
       "      <td>0</td>\n",
       "      <td>0</td>\n",
       "    </tr>\n",
       "    <tr>\n",
       "      <th>2</th>\n",
       "      <td>1</td>\n",
       "      <td>2010</td>\n",
       "      <td>Devonshire</td>\n",
       "      <td>0</td>\n",
       "      <td>1</td>\n",
       "      <td>0</td>\n",
       "      <td>15</td>\n",
       "      <td>2</td>\n",
       "      <td>65</td>\n",
       "      <td>0</td>\n",
       "      <td>...</td>\n",
       "      <td>0</td>\n",
       "      <td>42</td>\n",
       "      <td>54</td>\n",
       "      <td>2</td>\n",
       "      <td>0</td>\n",
       "      <td>71</td>\n",
       "      <td>12</td>\n",
       "      <td>5</td>\n",
       "      <td>0</td>\n",
       "      <td>0</td>\n",
       "    </tr>\n",
       "    <tr>\n",
       "      <th>3</th>\n",
       "      <td>1</td>\n",
       "      <td>2010</td>\n",
       "      <td>Foothill</td>\n",
       "      <td>0</td>\n",
       "      <td>1</td>\n",
       "      <td>0</td>\n",
       "      <td>32</td>\n",
       "      <td>1</td>\n",
       "      <td>56</td>\n",
       "      <td>0</td>\n",
       "      <td>...</td>\n",
       "      <td>0</td>\n",
       "      <td>43</td>\n",
       "      <td>41</td>\n",
       "      <td>1</td>\n",
       "      <td>0</td>\n",
       "      <td>75</td>\n",
       "      <td>1</td>\n",
       "      <td>20</td>\n",
       "      <td>0</td>\n",
       "      <td>0</td>\n",
       "    </tr>\n",
       "    <tr>\n",
       "      <th>4</th>\n",
       "      <td>1</td>\n",
       "      <td>2010</td>\n",
       "      <td>Harbor</td>\n",
       "      <td>0</td>\n",
       "      <td>3</td>\n",
       "      <td>0</td>\n",
       "      <td>14</td>\n",
       "      <td>8</td>\n",
       "      <td>48</td>\n",
       "      <td>0</td>\n",
       "      <td>...</td>\n",
       "      <td>0</td>\n",
       "      <td>40</td>\n",
       "      <td>42</td>\n",
       "      <td>1</td>\n",
       "      <td>0</td>\n",
       "      <td>84</td>\n",
       "      <td>31</td>\n",
       "      <td>2</td>\n",
       "      <td>0</td>\n",
       "      <td>0</td>\n",
       "    </tr>\n",
       "  </tbody>\n",
       "</table>\n",
       "<p>5 rows × 146 columns</p>\n",
       "</div>"
      ],
      "text/plain": [
       "   Month  Year         Area  Crime_ABORTION/ILLEGAL  Crime_ARSON  \\\n",
       "0      1  2010  77th Street                       0            4   \n",
       "1      1  2010      Central                       0            1   \n",
       "2      1  2010   Devonshire                       0            1   \n",
       "3      1  2010     Foothill                       0            1   \n",
       "4      1  2010       Harbor                       0            3   \n",
       "\n",
       "   Crime_ASSAULT WITH DEADLY WEAPON ON POLICE OFFICER  \\\n",
       "0                                                  0    \n",
       "1                                                  0    \n",
       "2                                                  0    \n",
       "3                                                  0    \n",
       "4                                                  0    \n",
       "\n",
       "   Crime_ASSAULT WITH DEADLY WEAPON, AGGRAVATED ASSAULT  \\\n",
       "0                                                 88      \n",
       "1                                                 29      \n",
       "2                                                 15      \n",
       "3                                                 32      \n",
       "4                                                 14      \n",
       "\n",
       "   Crime_ATTEMPTED ROBBERY  Crime_BATTERY - SIMPLE ASSAULT  \\\n",
       "0                       16                             160   \n",
       "1                        5                             109   \n",
       "2                        2                              65   \n",
       "3                        1                              56   \n",
       "4                        8                              48   \n",
       "\n",
       "   Crime_BATTERY ON A FIREFIGHTER  ...  Crime_UNAUTHORIZED COMPUTER ACCESS  \\\n",
       "0                               0  ...                                   0   \n",
       "1                               0  ...                                   0   \n",
       "2                               0  ...                                   0   \n",
       "3                               0  ...                                   0   \n",
       "4                               0  ...                                   0   \n",
       "\n",
       "   Crime_VANDALISM - FELONY ($400 & OVER, ALL CHURCH VANDALISMS)  \\\n",
       "0                                                 46               \n",
       "1                                                 14               \n",
       "2                                                 42               \n",
       "3                                                 43               \n",
       "4                                                 40               \n",
       "\n",
       "   Crime_VANDALISM - MISDEAMEANOR ($399 OR UNDER)  \\\n",
       "0                                              58   \n",
       "1                                              15   \n",
       "2                                              54   \n",
       "3                                              41   \n",
       "4                                              42   \n",
       "\n",
       "   Crime_VEHICLE - ATTEMPT STOLEN  \\\n",
       "0                               4   \n",
       "1                               0   \n",
       "2                               2   \n",
       "3                               1   \n",
       "4                               1   \n",
       "\n",
       "   Crime_VEHICLE - MOTORIZED SCOOTERS, BICYCLES, AND WHEELCHAIRS  \\\n",
       "0                                                  0               \n",
       "1                                                  0               \n",
       "2                                                  0               \n",
       "3                                                  0               \n",
       "4                                                  0               \n",
       "\n",
       "   Crime_VEHICLE - STOLEN  Crime_VIOLATION OF COURT ORDER  \\\n",
       "0                      92                              15   \n",
       "1                      17                               3   \n",
       "2                      71                              12   \n",
       "3                      75                               1   \n",
       "4                      84                              31   \n",
       "\n",
       "   Crime_VIOLATION OF RESTRAINING ORDER  \\\n",
       "0                                    10   \n",
       "1                                     4   \n",
       "2                                     5   \n",
       "3                                    20   \n",
       "4                                     2   \n",
       "\n",
       "   Crime_VIOLATION OF TEMPORARY RESTRAINING ORDER  \\\n",
       "0                                               0   \n",
       "1                                               0   \n",
       "2                                               0   \n",
       "3                                               0   \n",
       "4                                               0   \n",
       "\n",
       "   Crime_WEAPONS POSSESSION/BOMBING  \n",
       "0                                 0  \n",
       "1                                 0  \n",
       "2                                 0  \n",
       "3                                 0  \n",
       "4                                 0  \n",
       "\n",
       "[5 rows x 146 columns]"
      ]
     },
     "execution_count": 5,
     "metadata": {},
     "output_type": "execute_result"
    }
   ],
   "source": [
    "# display first five rows\n",
    "pd.read_csv('data/table/pca_data.csv').head()"
   ]
  },
  {
   "cell_type": "markdown",
   "metadata": {},
   "source": [
    "##### **Correlation Heat Map:**"
   ]
  },
  {
   "cell_type": "markdown",
   "metadata": {},
   "source": [
    "<div align=\"center\"><img src='data/plot/corr_heat_map.png' title='Correlation Heat Map' height=300></div>\n",
    "<div align=\"center\">Correlation Heat Map</div> "
   ]
  },
  {
   "cell_type": "markdown",
   "metadata": {},
   "source": [
    "From the heat map above, some strong correlations between crimes are observed."
   ]
  },
  {
   "cell_type": "markdown",
   "metadata": {},
   "source": [
    "##### **Select PCs:**"
   ]
  },
  {
   "cell_type": "markdown",
   "metadata": {},
   "source": [
    "The table and the plot below show the proportion and cumulative variance explained by PC components.  "
   ]
  },
  {
   "cell_type": "code",
   "execution_count": 8,
   "metadata": {},
   "outputs": [
    {
     "data": {
      "text/html": [
       "<div>\n",
       "<style scoped>\n",
       "    .dataframe tbody tr th:only-of-type {\n",
       "        vertical-align: middle;\n",
       "    }\n",
       "\n",
       "    .dataframe tbody tr th {\n",
       "        vertical-align: top;\n",
       "    }\n",
       "\n",
       "    .dataframe thead th {\n",
       "        text-align: right;\n",
       "    }\n",
       "</style>\n",
       "<table border=\"1\" class=\"dataframe\">\n",
       "  <thead>\n",
       "    <tr style=\"text-align: right;\">\n",
       "      <th></th>\n",
       "      <th>Proportion of variance explained</th>\n",
       "      <th>Component</th>\n",
       "      <th>Cumulative variance explained</th>\n",
       "    </tr>\n",
       "  </thead>\n",
       "  <tbody>\n",
       "    <tr>\n",
       "      <th>0</th>\n",
       "      <td>0.071215</td>\n",
       "      <td>1</td>\n",
       "      <td>0.071215</td>\n",
       "    </tr>\n",
       "    <tr>\n",
       "      <th>1</th>\n",
       "      <td>0.046773</td>\n",
       "      <td>2</td>\n",
       "      <td>0.117988</td>\n",
       "    </tr>\n",
       "    <tr>\n",
       "      <th>2</th>\n",
       "      <td>0.037056</td>\n",
       "      <td>3</td>\n",
       "      <td>0.155044</td>\n",
       "    </tr>\n",
       "    <tr>\n",
       "      <th>3</th>\n",
       "      <td>0.027385</td>\n",
       "      <td>4</td>\n",
       "      <td>0.182429</td>\n",
       "    </tr>\n",
       "    <tr>\n",
       "      <th>4</th>\n",
       "      <td>0.018890</td>\n",
       "      <td>5</td>\n",
       "      <td>0.201319</td>\n",
       "    </tr>\n",
       "    <tr>\n",
       "      <th>5</th>\n",
       "      <td>0.013008</td>\n",
       "      <td>6</td>\n",
       "      <td>0.214327</td>\n",
       "    </tr>\n",
       "  </tbody>\n",
       "</table>\n",
       "</div>"
      ],
      "text/plain": [
       "   Proportion of variance explained  Component  Cumulative variance explained\n",
       "0                          0.071215          1                       0.071215\n",
       "1                          0.046773          2                       0.117988\n",
       "2                          0.037056          3                       0.155044\n",
       "3                          0.027385          4                       0.182429\n",
       "4                          0.018890          5                       0.201319\n",
       "5                          0.013008          6                       0.214327"
      ]
     },
     "execution_count": 8,
     "metadata": {},
     "output_type": "execute_result"
    }
   ],
   "source": [
    "# read table\n",
    "pd.read_csv('data/table/pca_var_explained.csv').head(6)"
   ]
  },
  {
   "cell_type": "markdown",
   "metadata": {},
   "source": [
    "<div align=\"center\"><img src='data/plot/pca_var_explained_plot.png' title='PCA Variance Explained Plot' height=300></div>\n",
    "<div align=\"center\">PCA Variance Explained Plot</div> "
   ]
  },
  {
   "cell_type": "markdown",
   "metadata": {},
   "source": [
    "From the plot, we can see that first 6 PCs are good for analyzing with cumulative 0.214327 of total variance explained.  \n",
    "However, 6 PCs are too complicated to analyse, we will use first 4 PCs for analyzing with cumulative 0.182429 of total variance explained.  "
   ]
  },
  {
   "cell_type": "markdown",
   "metadata": {},
   "source": [
    "<div align=\"center\"><img src='data/plot/pca_loading_plot.png' title='PCA Loading Plot' height=300></div>\n",
    "<div align=\"center\">PCA Loading Plot</div> "
   ]
  },
  {
   "cell_type": "markdown",
   "metadata": {},
   "source": [
    "From the loading plot, we can see PC1 is more likey to be firearm related crime. PC2 is more likey thefting and transpassing. PC3 is more likey assulting and GTA. PC4 is more likey other than theft and burglary. "
   ]
  },
  {
   "cell_type": "markdown",
   "metadata": {},
   "source": [
    "##### **PCA Transform:**"
   ]
  },
  {
   "cell_type": "markdown",
   "metadata": {},
   "source": [
    "The table below shows the project data after PCA transform.  "
   ]
  },
  {
   "cell_type": "code",
   "execution_count": 9,
   "metadata": {},
   "outputs": [
    {
     "data": {
      "text/html": [
       "<div>\n",
       "<style scoped>\n",
       "    .dataframe tbody tr th:only-of-type {\n",
       "        vertical-align: middle;\n",
       "    }\n",
       "\n",
       "    .dataframe tbody tr th {\n",
       "        vertical-align: top;\n",
       "    }\n",
       "\n",
       "    .dataframe thead th {\n",
       "        text-align: right;\n",
       "    }\n",
       "</style>\n",
       "<table border=\"1\" class=\"dataframe\">\n",
       "  <thead>\n",
       "    <tr style=\"text-align: right;\">\n",
       "      <th></th>\n",
       "      <th>PC1</th>\n",
       "      <th>PC2</th>\n",
       "      <th>PC3</th>\n",
       "      <th>PC4</th>\n",
       "      <th>Month</th>\n",
       "      <th>Year</th>\n",
       "      <th>Area</th>\n",
       "    </tr>\n",
       "  </thead>\n",
       "  <tbody>\n",
       "    <tr>\n",
       "      <th>0</th>\n",
       "      <td>8.637380</td>\n",
       "      <td>-6.726617</td>\n",
       "      <td>6.533671</td>\n",
       "      <td>-3.985459</td>\n",
       "      <td>1</td>\n",
       "      <td>2010</td>\n",
       "      <td>77th Street</td>\n",
       "    </tr>\n",
       "    <tr>\n",
       "      <th>1</th>\n",
       "      <td>-1.842980</td>\n",
       "      <td>-1.912674</td>\n",
       "      <td>1.033121</td>\n",
       "      <td>5.089348</td>\n",
       "      <td>1</td>\n",
       "      <td>2010</td>\n",
       "      <td>Central</td>\n",
       "    </tr>\n",
       "    <tr>\n",
       "      <th>2</th>\n",
       "      <td>-2.953900</td>\n",
       "      <td>-2.030991</td>\n",
       "      <td>2.143411</td>\n",
       "      <td>-4.391370</td>\n",
       "      <td>1</td>\n",
       "      <td>2010</td>\n",
       "      <td>Devonshire</td>\n",
       "    </tr>\n",
       "    <tr>\n",
       "      <th>3</th>\n",
       "      <td>0.324112</td>\n",
       "      <td>-4.114268</td>\n",
       "      <td>1.741791</td>\n",
       "      <td>-3.037902</td>\n",
       "      <td>1</td>\n",
       "      <td>2010</td>\n",
       "      <td>Foothill</td>\n",
       "    </tr>\n",
       "    <tr>\n",
       "      <th>4</th>\n",
       "      <td>0.851694</td>\n",
       "      <td>-5.157373</td>\n",
       "      <td>1.653398</td>\n",
       "      <td>-1.814922</td>\n",
       "      <td>1</td>\n",
       "      <td>2010</td>\n",
       "      <td>Harbor</td>\n",
       "    </tr>\n",
       "  </tbody>\n",
       "</table>\n",
       "</div>"
      ],
      "text/plain": [
       "        PC1       PC2       PC3       PC4  Month  Year         Area\n",
       "0  8.637380 -6.726617  6.533671 -3.985459      1  2010  77th Street\n",
       "1 -1.842980 -1.912674  1.033121  5.089348      1  2010      Central\n",
       "2 -2.953900 -2.030991  2.143411 -4.391370      1  2010   Devonshire\n",
       "3  0.324112 -4.114268  1.741791 -3.037902      1  2010     Foothill\n",
       "4  0.851694 -5.157373  1.653398 -1.814922      1  2010       Harbor"
      ]
     },
     "execution_count": 9,
     "metadata": {},
     "output_type": "execute_result"
    }
   ],
   "source": [
    "# read table\n",
    "pd.read_csv('data/table/pca_projected_data.csv').head()"
   ]
  },
  {
   "cell_type": "markdown",
   "metadata": {},
   "source": [
    "##### **Outliers:**"
   ]
  },
  {
   "cell_type": "markdown",
   "metadata": {},
   "source": [
    "The plot and table below show the outliers of PC2(Thefting and Transpassing) and PC3(Assulting and GTA).  "
   ]
  },
  {
   "cell_type": "markdown",
   "metadata": {},
   "source": [
    "<div align=\"center\"><img src='data/plot/pca_outlier_plot.png' title='Outlier Scatter Plot of PC2 and PC3' height=300></div>\n",
    "<div align=\"center\">Outlier Scatter Plot of PC2 and PC3</div> "
   ]
  },
  {
   "cell_type": "code",
   "execution_count": 10,
   "metadata": {},
   "outputs": [
    {
     "data": {
      "text/html": [
       "<div>\n",
       "<style scoped>\n",
       "    .dataframe tbody tr th:only-of-type {\n",
       "        vertical-align: middle;\n",
       "    }\n",
       "\n",
       "    .dataframe tbody tr th {\n",
       "        vertical-align: top;\n",
       "    }\n",
       "\n",
       "    .dataframe thead th {\n",
       "        text-align: right;\n",
       "    }\n",
       "</style>\n",
       "<table border=\"1\" class=\"dataframe\">\n",
       "  <thead>\n",
       "    <tr style=\"text-align: right;\">\n",
       "      <th></th>\n",
       "      <th>PC1</th>\n",
       "      <th>PC2</th>\n",
       "      <th>PC3</th>\n",
       "      <th>PC4</th>\n",
       "      <th>Month</th>\n",
       "      <th>Year</th>\n",
       "      <th>Area</th>\n",
       "    </tr>\n",
       "  </thead>\n",
       "  <tbody>\n",
       "    <tr>\n",
       "      <th>0</th>\n",
       "      <td>1.769598</td>\n",
       "      <td>7.507764</td>\n",
       "      <td>7.523993</td>\n",
       "      <td>5.449909</td>\n",
       "      <td>1</td>\n",
       "      <td>2019</td>\n",
       "      <td>Central</td>\n",
       "    </tr>\n",
       "    <tr>\n",
       "      <th>1</th>\n",
       "      <td>0.617683</td>\n",
       "      <td>7.582819</td>\n",
       "      <td>6.898608</td>\n",
       "      <td>6.013018</td>\n",
       "      <td>4</td>\n",
       "      <td>2018</td>\n",
       "      <td>Central</td>\n",
       "    </tr>\n",
       "    <tr>\n",
       "      <th>2</th>\n",
       "      <td>2.322512</td>\n",
       "      <td>6.917347</td>\n",
       "      <td>7.569194</td>\n",
       "      <td>5.929423</td>\n",
       "      <td>5</td>\n",
       "      <td>2019</td>\n",
       "      <td>Central</td>\n",
       "    </tr>\n",
       "    <tr>\n",
       "      <th>3</th>\n",
       "      <td>2.629848</td>\n",
       "      <td>7.763640</td>\n",
       "      <td>7.114979</td>\n",
       "      <td>4.595560</td>\n",
       "      <td>6</td>\n",
       "      <td>2019</td>\n",
       "      <td>Central</td>\n",
       "    </tr>\n",
       "    <tr>\n",
       "      <th>4</th>\n",
       "      <td>2.997893</td>\n",
       "      <td>7.276762</td>\n",
       "      <td>7.067218</td>\n",
       "      <td>4.470929</td>\n",
       "      <td>7</td>\n",
       "      <td>2019</td>\n",
       "      <td>Central</td>\n",
       "    </tr>\n",
       "    <tr>\n",
       "      <th>5</th>\n",
       "      <td>3.572977</td>\n",
       "      <td>8.699017</td>\n",
       "      <td>6.278390</td>\n",
       "      <td>4.077510</td>\n",
       "      <td>8</td>\n",
       "      <td>2019</td>\n",
       "      <td>Central</td>\n",
       "    </tr>\n",
       "    <tr>\n",
       "      <th>6</th>\n",
       "      <td>4.568350</td>\n",
       "      <td>9.548046</td>\n",
       "      <td>6.421643</td>\n",
       "      <td>5.387357</td>\n",
       "      <td>9</td>\n",
       "      <td>2019</td>\n",
       "      <td>Central</td>\n",
       "    </tr>\n",
       "    <tr>\n",
       "      <th>7</th>\n",
       "      <td>2.886755</td>\n",
       "      <td>10.791482</td>\n",
       "      <td>4.462664</td>\n",
       "      <td>4.401455</td>\n",
       "      <td>11</td>\n",
       "      <td>2021</td>\n",
       "      <td>Central</td>\n",
       "    </tr>\n",
       "  </tbody>\n",
       "</table>\n",
       "</div>"
      ],
      "text/plain": [
       "        PC1        PC2       PC3       PC4  Month  Year     Area\n",
       "0  1.769598   7.507764  7.523993  5.449909      1  2019  Central\n",
       "1  0.617683   7.582819  6.898608  6.013018      4  2018  Central\n",
       "2  2.322512   6.917347  7.569194  5.929423      5  2019  Central\n",
       "3  2.629848   7.763640  7.114979  4.595560      6  2019  Central\n",
       "4  2.997893   7.276762  7.067218  4.470929      7  2019  Central\n",
       "5  3.572977   8.699017  6.278390  4.077510      8  2019  Central\n",
       "6  4.568350   9.548046  6.421643  5.387357      9  2019  Central\n",
       "7  2.886755  10.791482  4.462664  4.401455     11  2021  Central"
      ]
     },
     "execution_count": 10,
     "metadata": {},
     "output_type": "execute_result"
    }
   ],
   "source": [
    "pd.read_csv('data/table/pc2_pc3_outliers.csv')"
   ]
  },
  {
   "cell_type": "markdown",
   "metadata": {},
   "source": [
    "##### **Result:**"
   ]
  },
  {
   "cell_type": "markdown",
   "metadata": {},
   "source": [
    "From the PCA Analysis, the bigger major categories of crimes are the firearm related category, thefting and transpassing category, assaulting and GTA category, and other theft and burglary category.  \n",
    "\n",
    "Since there are no obvious outliers formed with every two PCs, we will take look into place and time with high Assaulting, GTA, Thefting and Transpassing crime categories, and assume them as outliers. From the outliers listed above, we can see `Central` area in 2019 is different from the other area tend to have more Assaulting, GTA, Thefting and Transpassing than the other time in other areas."
   ]
  },
  {
   "cell_type": "markdown",
   "metadata": {},
   "source": [
    "<hr>\n",
    "\n",
    "## **Loess Plot Analysis**"
   ]
  },
  {
   "cell_type": "markdown",
   "metadata": {},
   "source": [
    "### **How was the trend that a specific descent group were victimlized? &ensp;&ensp; *(**Linchuan Yang**)***"
   ]
  },
  {
   "cell_type": "markdown",
   "metadata": {},
   "source": [
    "##### **Description:**"
   ]
  },
  {
   "cell_type": "markdown",
   "metadata": {},
   "source": [
    "From *Pie Chart of Victim Descent by Year* in *Initial Visualization*, we can see that there are trend that some specific descent group were becoming more or less victimlized. To analyse the trend, we will go deeply by month and do a Loess Plot Analysis.   \n",
    "\n",
    "<div align=\"center\"><img src='data/plot/victim_descent_pie.png' title='Pie Chart of Victim Descent by Year' height=150></div>\n",
    "<div align=\"center\">Pie Chart of Victim Descent by Year</div> "
   ]
  },
  {
   "cell_type": "markdown",
   "metadata": {},
   "source": [
    "##### **Table of Victim Descent by Month:**"
   ]
  },
  {
   "cell_type": "code",
   "execution_count": 11,
   "metadata": {},
   "outputs": [
    {
     "data": {
      "text/html": [
       "<div>\n",
       "<style scoped>\n",
       "    .dataframe tbody tr th:only-of-type {\n",
       "        vertical-align: middle;\n",
       "    }\n",
       "\n",
       "    .dataframe tbody tr th {\n",
       "        vertical-align: top;\n",
       "    }\n",
       "\n",
       "    .dataframe thead th {\n",
       "        text-align: right;\n",
       "    }\n",
       "</style>\n",
       "<table border=\"1\" class=\"dataframe\">\n",
       "  <thead>\n",
       "    <tr style=\"text-align: right;\">\n",
       "      <th></th>\n",
       "      <th>Year</th>\n",
       "      <th>Month</th>\n",
       "      <th>Victim Descent</th>\n",
       "      <th>Proportion</th>\n",
       "    </tr>\n",
       "  </thead>\n",
       "  <tbody>\n",
       "    <tr>\n",
       "      <th>0</th>\n",
       "      <td>2010</td>\n",
       "      <td>1</td>\n",
       "      <td>American Indian</td>\n",
       "      <td>0.0006</td>\n",
       "    </tr>\n",
       "    <tr>\n",
       "      <th>1</th>\n",
       "      <td>2010</td>\n",
       "      <td>1</td>\n",
       "      <td>Asian</td>\n",
       "      <td>0.0339</td>\n",
       "    </tr>\n",
       "    <tr>\n",
       "      <th>2</th>\n",
       "      <td>2010</td>\n",
       "      <td>1</td>\n",
       "      <td>Black</td>\n",
       "      <td>0.1951</td>\n",
       "    </tr>\n",
       "    <tr>\n",
       "      <th>3</th>\n",
       "      <td>2010</td>\n",
       "      <td>1</td>\n",
       "      <td>Hispanic</td>\n",
       "      <td>0.4569</td>\n",
       "    </tr>\n",
       "    <tr>\n",
       "      <th>4</th>\n",
       "      <td>2010</td>\n",
       "      <td>1</td>\n",
       "      <td>Pacific Islander</td>\n",
       "      <td>0.0004</td>\n",
       "    </tr>\n",
       "  </tbody>\n",
       "</table>\n",
       "</div>"
      ],
      "text/plain": [
       "   Year  Month    Victim Descent  Proportion\n",
       "0  2010      1   American Indian      0.0006\n",
       "1  2010      1             Asian      0.0339\n",
       "2  2010      1             Black      0.1951\n",
       "3  2010      1          Hispanic      0.4569\n",
       "4  2010      1  Pacific Islander      0.0004"
      ]
     },
     "execution_count": 11,
     "metadata": {},
     "output_type": "execute_result"
    }
   ],
   "source": [
    "# read table \n",
    "pd.read_csv('data/table/victim_descent_data.csv').head()"
   ]
  },
  {
   "cell_type": "markdown",
   "metadata": {},
   "source": [
    "##### **Scatter Plot:**"
   ]
  },
  {
   "cell_type": "markdown",
   "metadata": {},
   "source": [
    "<div align=\"center\"><img src='data/plot/victim_scatter.png' title='Victim Descent Proportion Scatter Plot' height=300 width=400></div>\n",
    "<div align=\"center\">Victim Descent Proportion Scatter Plot</div> "
   ]
  },
  {
   "cell_type": "markdown",
   "metadata": {},
   "source": [
    "From the plot above, we observed the proportion of Asian are incresingly to be victimlized while the other descents were dropping at 2020 to 2021. So lets take a look from 2018 to 2021.   "
   ]
  },
  {
   "cell_type": "markdown",
   "metadata": {},
   "source": [
    "<div align=\"center\"><img src='data/plot/victim_scatter_2018_to_2021.png' title='Victim Descent Proportion Scatter Plot from 2018 to 2021' height=300></div>\n",
    "<div align=\"center\">Victim Descent Proportion Scatter Plot from 2018 to 2021</div> "
   ]
  },
  {
   "cell_type": "markdown",
   "metadata": {},
   "source": [
    "From the plot above, we observed that the proportion of Victim descents after 2019 are more vibrating than before. To get better understanding on trend, loess plot or multi-linear gression is required. However, since the pattern is seasonal instead of linear, we cannot use multi-linear gression. Therefore, loess plot will be apply for this question.    "
   ]
  },
  {
   "cell_type": "markdown",
   "metadata": {},
   "source": [
    "<div align=\"center\"><img src='data/plot/victim_loess_plot.png' title='Victim Descent Proportion Loess Plot from 2018 to 2021' height=300></div>\n",
    "<div align=\"center\">Victim Descent Proportion Loess Plot from 2018 to 2021</div> "
   ]
  },
  {
   "cell_type": "markdown",
   "metadata": {},
   "source": [
    "From the loess plot above, we observed that the proportion of Asian being victimlized are countinuous increasing from June 2020 while the proportion of other desent are bouncing seasonally.  \n",
    "\n",
    "One potential reason explains why Asian descent are tend to more likely being victimlized is \"Asian Hate\" leaded by \"COVID-19\".  \n",
    "As \"Covid 'hate crimes' against Asian Americans on rise\" from BBC News stated, from March to May 2020 alone, over 800 Covid-related hate incidents were reported from 34 counties in the state, according to a report released by the Asian Pacific Policy Planning Council. \n",
    "\n",
    "<div align=\"center\"><img src='https://ichef.bbci.co.uk/news/976/cpsprodpb/10537/production/_117317866_gettyimages-1231313555.jpg' title='Picture of #Stop Asian Hate Protest' height=300 width=500></div>\n",
    "<div align=\"center\">Picture of #Stop Asian Hate Protest</div> \n",
    "\n",
    "**Source:** https://www.bbc.com/news/world-us-canada-56218684\n",
    "\n",
    "Also, **Notice** that since the analysis is based on the proportion of descent being victimlized. Correlation may interact with each other, which mean, the incerase of proportion may not because of actual increase, may also because the decrease of other proportion and vice versa. So that the result may not fully reflect reality.  "
   ]
  },
  {
   "cell_type": "markdown",
   "metadata": {},
   "source": [
    "<hr>\n",
    "\n",
    "## **Discussion**"
   ]
  },
  {
   "cell_type": "markdown",
   "metadata": {},
   "source": [
    "From all the analyses above, we can draw conclusions from each part.  \n",
    "\n",
    "From the visualization part, we can observe that January, July, August and October are the most concentrated Months with crimes happening. Also, aged 20 to 30 are the most population being victimized. Moreover, male victims are more than female victims. At last, with a visual analysis of the dangerous index, we derived that 77th Street Area is considered the most dangerous area, on the other hand, Hollenbeck and Foothill areas are considered the safest areas in the City of Los Angeles.  \n",
    "\n",
    "From PCA analysis part, by using PCA from sklearn package, four major bigger categories of crimes are discovered. The four bigger major categories are firearm related category, thefting and transpassing category, assaulting and GTA category, and other than theft and burglary category. Also, analysis has pointed out that Central area in 2019 different from the other area tends to have more Assulting, GTA, Thefting and Transpassing than the other time in other areas of the City of Los Angeles.  \n",
    "\n",
    "From the Loess plot analysis part, by plotting the loess plot of victim count by descent, we found a potential increase in the proportion of Asian descent. Connect to the news about COVID-19 related Asian Hate, the findings also make sense to the reality. \n",
    "\n",
    "For the future, since the significant bouncing pattern on the victim descent scatter plot was observed after COVID-19 was transmitted to the City of Los Angeles. Will the scatters still keep this pattern for post-COVID time, or will the pattern get back to normal? This question will be very thought-provoking for future analysis of crime data."
   ]
  },
  {
   "cell_type": "markdown",
   "metadata": {},
   "source": []
  }
 ],
 "metadata": {
  "interpreter": {
   "hash": "916dbcbb3f70747c44a77c7bcd40155683ae19c65e1c03b4aa3499c5328201f1"
  },
  "kernelspec": {
   "display_name": "Python 3.8.10 64-bit",
   "language": "python",
   "name": "python3"
  },
  "language_info": {
   "codemirror_mode": {
    "name": "ipython",
    "version": 3
   },
   "file_extension": ".py",
   "mimetype": "text/x-python",
   "name": "python",
   "nbconvert_exporter": "python",
   "pygments_lexer": "ipython3",
   "version": "3.8.10"
  },
  "orig_nbformat": 4
 },
 "nbformat": 4,
 "nbformat_minor": 2
}
